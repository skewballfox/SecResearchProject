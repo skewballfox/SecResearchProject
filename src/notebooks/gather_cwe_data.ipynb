{
 "cells": [
  {
   "cell_type": "code",
   "execution_count": 9,
   "metadata": {},
   "outputs": [],
   "source": [
    "from cwe2.database import Database\n",
    "import requests\n",
    "from bs4 import BeautifulSoup\n",
    "from pathlib import Path\n",
    "from typing import List\n",
    "import json\n",
    "\n",
    "data_dir = Path.cwd() / 'data'\n",
    "def get_mem_safe_cwe(data_dir: Path=Path.cwd() / 'data')-> List[int]:\n",
    "    cwe1399= BeautifulSoup(requests.get('https://cwe.mitre.org/data/definitions/1399.html').text)\n",
    "    cwe_1399=cwe1399.find(name='table',attrs={'id':'Detail'})\n",
    "\n",
    "    cwe_ids: List[int] = []\n",
    "    if (data_dir/'cwe_ids.json').exists():\n",
    "        return json.loads((data_dir/'cwe_ids.json').read_text())\n",
    "    # Loop through all rows in the table\n",
    "    for row in cwe_1399.findAll('tr'):\n",
    "        #print(row)\n",
    "        # Extract the second column (CWE ID) directly\n",
    "        columns = row.findAll('td')\n",
    "        if len(columns) > 1:\n",
    "            cwe_id_text = columns[2].text.strip()\n",
    "            # Since it's a specific table, directly convert the text to integer\n",
    "            cwe_id = int(cwe_id_text)\n",
    "            cwe_ids.append(cwe_id)\n",
    "    # skip the first element, which is group membership\n",
    "    cwe_ids = cwe_ids[1:]\n",
    "    # Save the list of CWE IDs to a file\n",
    "    data_dir.mkdir(exist_ok=True)\n",
    "    (data_dir/'cwe_ids.json').write_text(json.dumps(cwe_ids))\n",
    "    return cwe_ids            \n",
    "\n",
    "\n",
    "#cwe_db = Database()\n",
    "#cwe_db.get(1399)"
   ]
  },
  {
   "cell_type": "code",
   "execution_count": 10,
   "metadata": {},
   "outputs": [
    {
     "name": "stdout",
     "output_type": "stream",
     "text": [
      "/home/Daedalus/Workspace/data\n"
     ]
    },
    {
     "data": {
      "text/plain": [
       "[1400,\n",
       " 119,\n",
       " 120,\n",
       " 121,\n",
       " 122,\n",
       " 123,\n",
       " 124,\n",
       " 125,\n",
       " 126,\n",
       " 127,\n",
       " 129,\n",
       " 131,\n",
       " 134,\n",
       " 188,\n",
       " 198,\n",
       " 244,\n",
       " 401,\n",
       " 415,\n",
       " 416,\n",
       " 466,\n",
       " 562,\n",
       " 587,\n",
       " 590,\n",
       " 680,\n",
       " 690,\n",
       " 761,\n",
       " 762,\n",
       " 763,\n",
       " 786,\n",
       " 787,\n",
       " 788,\n",
       " 789,\n",
       " 805,\n",
       " 806,\n",
       " 822,\n",
       " 823,\n",
       " 824,\n",
       " 825]"
      ]
     },
     "execution_count": 10,
     "metadata": {},
     "output_type": "execute_result"
    }
   ],
   "source": [
    "cwe_ids = get_mem_safe_cwe(data_dir)\n",
    "print(data_dir)\n",
    "cwe_ids"
   ]
  }
 ],
 "metadata": {
  "kernelspec": {
   "display_name": "memorysafedataaggregator-w7lN1TqD-py3.10",
   "language": "python",
   "name": "python3"
  },
  "language_info": {
   "codemirror_mode": {
    "name": "ipython",
    "version": 3
   },
   "file_extension": ".py",
   "mimetype": "text/x-python",
   "name": "python",
   "nbconvert_exporter": "python",
   "pygments_lexer": "ipython3",
   "version": "3.10.13"
  }
 },
 "nbformat": 4,
 "nbformat_minor": 2
}
