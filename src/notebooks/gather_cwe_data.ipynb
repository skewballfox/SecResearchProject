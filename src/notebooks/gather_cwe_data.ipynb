{
 "cells": [
  {
   "cell_type": "code",
   "execution_count": 4,
   "metadata": {},
   "outputs": [],
   "source": [
    "from cwe2.database import Database\n",
    "import nvdlib\n",
    "import requests\n",
    "from bs4 import BeautifulSoup\n",
    "from pathlib import Path\n",
    "from typing import List,Optional\n",
    "import json\n",
    "from pprint import pprint\n",
    "from dataclasses import dataclass,asdict\n",
    "from src.aggregator.cwe import get_mem_safe_cwes,data_dir\n",
    "from src.aggregator.cve import get_cve_data,CVE\n",
    "import pandas as pd"
   ]
  },
  {
   "cell_type": "code",
   "execution_count": 5,
   "metadata": {},
   "outputs": [],
   "source": [
    "cwes = get_mem_safe_cwes()"
   ]
  },
  {
   "cell_type": "code",
   "execution_count": 6,
   "metadata": {},
   "outputs": [
    {
     "ename": "TypeError",
     "evalue": "'CVE' object is not iterable",
     "output_type": "error",
     "traceback": [
      "\u001b[0;31m---------------------------------------------------------------------------\u001b[0m",
      "\u001b[0;31mTypeError\u001b[0m                                 Traceback (most recent call last)",
      "\u001b[1;32m/home/skewballfox/Workspace/SecResearchProject/src/notebooks/gather_cwe_data.ipynb Cell 3\u001b[0m line \u001b[0;36m9\n\u001b[1;32m      <a href='vscode-notebook-cell:/home/skewballfox/Workspace/SecResearchProject/src/notebooks/gather_cwe_data.ipynb#W5sZmlsZQ%3D%3D?line=5'>6</a>\u001b[0m \u001b[39mfor\u001b[39;00m cve \u001b[39min\u001b[39;00m cwe\u001b[39m.\u001b[39massociated_cves:\n\u001b[1;32m      <a href='vscode-notebook-cell:/home/skewballfox/Workspace/SecResearchProject/src/notebooks/gather_cwe_data.ipynb#W5sZmlsZQ%3D%3D?line=6'>7</a>\u001b[0m     cwe_res\u001b[39m=\u001b[39m get_cve_data(cve\u001b[39m.\u001b[39mid)\n\u001b[0;32m----> <a href='vscode-notebook-cell:/home/skewballfox/Workspace/SecResearchProject/src/notebooks/gather_cwe_data.ipynb#W5sZmlsZQ%3D%3D?line=8'>9</a>\u001b[0m res[cwe\u001b[39m.\u001b[39mid]\u001b[39m=\u001b[39mpd\u001b[39m.\u001b[39mjson_normalize(asdict(cve) \u001b[39mfor\u001b[39;49;00m cve \u001b[39min\u001b[39;49;00m cwe_res)\n\u001b[1;32m     <a href='vscode-notebook-cell:/home/skewballfox/Workspace/SecResearchProject/src/notebooks/gather_cwe_data.ipynb#W5sZmlsZQ%3D%3D?line=9'>10</a>\u001b[0m     \u001b[39m#print(f\"res: {json.loads(res[0].__dict__)}\")\u001b[39;00m\n\u001b[1;32m     <a href='vscode-notebook-cell:/home/skewballfox/Workspace/SecResearchProject/src/notebooks/gather_cwe_data.ipynb#W5sZmlsZQ%3D%3D?line=10'>11</a>\u001b[0m     \u001b[39m# if len(res) > 1:\u001b[39;00m\n\u001b[1;32m     <a href='vscode-notebook-cell:/home/skewballfox/Workspace/SecResearchProject/src/notebooks/gather_cwe_data.ipynb#W5sZmlsZQ%3D%3D?line=11'>12</a>\u001b[0m     \u001b[39m#     cwe_res[cve.name] = [str(r.__dict__) for r in res]\u001b[39;00m\n\u001b[1;32m     <a href='vscode-notebook-cell:/home/skewballfox/Workspace/SecResearchProject/src/notebooks/gather_cwe_data.ipynb#W5sZmlsZQ%3D%3D?line=12'>13</a>\u001b[0m     \u001b[39m# else: \u001b[39;00m\n\u001b[1;32m     <a href='vscode-notebook-cell:/home/skewballfox/Workspace/SecResearchProject/src/notebooks/gather_cwe_data.ipynb#W5sZmlsZQ%3D%3D?line=13'>14</a>\u001b[0m     \u001b[39m#     cwe_res[cve.name] = {v:getattr(res[0].__dict__,v) for v in res[0] if v != 5}\u001b[39;00m\n",
      "\u001b[0;31mTypeError\u001b[0m: 'CVE' object is not iterable"
     ]
    }
   ],
   "source": [
    "res={}\n",
    "for cwe in cwes:\n",
    "    if cwe.associated_cves is None:\n",
    "        continue\n",
    "    cwe_res: List[CVE] = [\n",
    "        get_cve_data(cve_info) for cve_info in cwe.associated_cves\n",
    "    ]\n",
    "    res[cwe.id]=pd.json_normalize(asdict(cve) for cve in cwe_res)\n",
    "        #print(f\"res: {json.loads(res[0].__dict__)}\")\n",
    "        # if len(res) > 1:\n",
    "        #     cwe_res[cve.name] = [str(r.__dict__) for r in res]\n",
    "        # else: \n",
    "        #     cwe_res[cve.name] = {v:getattr(res[0].__dict__,v) for v in res[0] if v != 5}\n",
    "        \n",
    "    "
   ]
  }
 ],
 "metadata": {
  "kernelspec": {
   "display_name": "memorysafedataaggregator-w7lN1TqD-py3.10",
   "language": "python",
   "name": "python3"
  },
  "language_info": {
   "codemirror_mode": {
    "name": "ipython",
    "version": 3
   },
   "file_extension": ".py",
   "mimetype": "text/x-python",
   "name": "python",
   "nbconvert_exporter": "python",
   "pygments_lexer": "ipython3",
   "version": "3.11.6"
  }
 },
 "nbformat": 4,
 "nbformat_minor": 2
}
