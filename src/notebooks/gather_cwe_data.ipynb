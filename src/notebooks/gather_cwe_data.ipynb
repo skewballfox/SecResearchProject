{
 "cells": [
  {
   "cell_type": "code",
   "execution_count": 1,
   "metadata": {},
   "outputs": [
    {
     "name": "stdout",
     "output_type": "stream",
     "text": [
      "/home/Daedalus/Workspace/SecResearchProject/data\n"
     ]
    }
   ],
   "source": [
    "from cwe2.database import Database\n",
    "import nvdlib\n",
    "import requests\n",
    "from bs4 import BeautifulSoup\n",
    "from pathlib import Path\n",
    "from typing import List,Optional\n",
    "import json\n",
    "from pprint import pprint\n",
    "from dataclasses import dataclass\n",
    "from src.aggregator.cwe import get_mem_safe_cwes,data_dir"
   ]
  },
  {
   "cell_type": "code",
   "execution_count": 2,
   "metadata": {},
   "outputs": [],
   "source": [
    "cwes = get_mem_safe_cwes()"
   ]
  },
  {
   "cell_type": "code",
   "execution_count": null,
   "metadata": {},
   "outputs": [],
   "source": [
    "def get_cve_data(cve_id:str)->Optional[dict]:\n",
    "    res={}\n",
    "    cve_data=nvdlib.searchCVE(cveId=cve_id)\n",
    "    for cve_entry in cve_data:\n",
    "        if len(cve_entry) > 1:\n",
    "            print(f\"Warning: {cve_id} has more than one entry\")\n",
    "        \n",
    "        for v in cve_entry[0]:\n",
    "            if v==5:\n",
    "                continue\n",
    "            match v:\n",
    "                case 'descriptions':\n",
    "                    for desc_entry in cve_entry.__dict__[v]:\n",
    "                        if desc_entry['lang']=='en':\n",
    "                            res['description']=desc_entry['value']\n",
    "                \n",
    "            \n",
    "        "
   ]
  },
  {
   "cell_type": "code",
   "execution_count": 10,
   "metadata": {},
   "outputs": [],
   "source": [
    "tmp = nvdlib.searchCVE(cveId=cwes[0].associated_cves[0].name)[0]"
   ]
  },
  {
   "cell_type": "code",
   "execution_count": 63,
   "metadata": {},
   "outputs": [
    {
     "name": "stdout",
     "output_type": "stream",
     "text": [
      "[{'lang': 'en', 'value': 'On BIG-IP versions 16.0.x before 16.0.1.1, 15.1.x before 15.1.2.1, 14.1.x before 14.1.4, 13.1.x before 13.1.3.6, and 12.1.x before 12.1.5.3, undisclosed requests to a virtual server may be incorrectly handled by the Traffic Management Microkernel (TMM) URI normalization, which may trigger a buffer overflow, resulting in a DoS attack. In certain situations, it may theoretically allow bypass of URL based access control or remote code execution (RCE). Note: Software versions which have reached End of Software Development (EoSD) are not evaluated.'}, {'lang': 'es', 'value': 'En BIG-IP versiones 16.0.x anteriores a 16.0.1.1, versiones 15.1.x anteriores a 15.1.2.1, versiones 14.1.x anteriores a 14.1.4, versiones 13.1.x anteriores a 13.1.3.6 y versiones 12.1.x anteriores a 12.1.5.3, unas peticiones no reveladas a un servidor virtual pueden ser manejadas incorrectamente por la normalización del URI de Traffic Management Microkernel (TMM), lo que puede desencadenar un desbordamiento del búfer, resultando en un ataque de DoS.&#xa0;En determinadas situaciones, teóricamente puede permitir la omisión del control de acceso basado en URL o una ejecución de código remota (RCE).&#xa0;Nota: No se evalúan las versiones de software que han alcanzado End of Software Development (EoSD).'}]\n",
      "On BIG-IP versions 16.0.x before 16.0.1.1, 15.1.x before 15.1.2.1, 14.1.x before 14.1.4, 13.1.x before 13.1.3.6, and 12.1.x before 12.1.5.3, undisclosed requests to a virtual server may be incorrectly handled by the Traffic Management Microkernel (TMM) URI normalization, which may trigger a buffer overflow, resulting in a DoS attack. In certain situations, it may theoretically allow bypass of URL based access control or remote code execution (RCE). Note: Software versions which have reached End of Software Development (EoSD) are not evaluated.\n",
      "dict_keys(['operator', 'negate', 'cpeMatch'])\n",
      "9.8\n"
     ]
    },
    {
     "ename": "AttributeError",
     "evalue": "'str' object has no attribute 'v31severity'",
     "output_type": "error",
     "traceback": [
      "\u001b[0;31m---------------------------------------------------------------------------\u001b[0m",
      "\u001b[0;31mAttributeError\u001b[0m                            Traceback (most recent call last)",
      "\u001b[1;32m/home/Daedalus/Workspace/SecResearchProject/src/notebooks/gather_cwe_data.ipynb Cell 5\u001b[0m line \u001b[0;36m4\n\u001b[1;32m     <a href='vscode-notebook-cell:/home/Daedalus/Workspace/SecResearchProject/src/notebooks/gather_cwe_data.ipynb#W5sZmlsZQ%3D%3D?line=41'>42</a>\u001b[0m     tmp_res[\u001b[39m\"\u001b[39m\u001b[39mv31score\u001b[39m\u001b[39m\"\u001b[39m]\u001b[39m=\u001b[39mv\n\u001b[1;32m     <a href='vscode-notebook-cell:/home/Daedalus/Workspace/SecResearchProject/src/notebooks/gather_cwe_data.ipynb#W5sZmlsZQ%3D%3D?line=43'>44</a>\u001b[0m \u001b[39mcase\u001b[39;00m \u001b[39m\"\u001b[39m\u001b[39mv31severity\u001b[39m\u001b[39m\"\u001b[39m:\n\u001b[0;32m---> <a href='vscode-notebook-cell:/home/Daedalus/Workspace/SecResearchProject/src/notebooks/gather_cwe_data.ipynb#W5sZmlsZQ%3D%3D?line=44'>45</a>\u001b[0m     tmp_res[\u001b[39m\"\u001b[39m\u001b[39mv31severity\u001b[39m\u001b[39m\"\u001b[39m]\u001b[39m=\u001b[39m\u001b[39mstr\u001b[39m(v\u001b[39m.\u001b[39;49mv31severity)\n\u001b[1;32m     <a href='vscode-notebook-cell:/home/Daedalus/Workspace/SecResearchProject/src/notebooks/gather_cwe_data.ipynb#W5sZmlsZQ%3D%3D?line=45'>46</a>\u001b[0m \u001b[39mcase\u001b[39;00m \u001b[39m\"\u001b[39m\u001b[39mv31impactScore\u001b[39m\u001b[39m\"\u001b[39m:\n\u001b[1;32m     <a href='vscode-notebook-cell:/home/Daedalus/Workspace/SecResearchProject/src/notebooks/gather_cwe_data.ipynb#W5sZmlsZQ%3D%3D?line=46'>47</a>\u001b[0m     tmp_res[\u001b[39m\"\u001b[39m\u001b[39mv31impactScore\u001b[39m\u001b[39m\"\u001b[39m]\u001b[39m=\u001b[39mv\n",
      "\u001b[0;31mAttributeError\u001b[0m: 'str' object has no attribute 'v31severity'"
     ]
    }
   ],
   "source": [
    "tmp2=dict(tmp.__dict__)\n",
    "tmp_res={}\n",
    "for k,v in tmp2.items():\n",
    "    match k:\n",
    "        case 'descriptions':\n",
    "            print(v)\n",
    "            for desc_entry in v:\n",
    "                if desc_entry.lang=='en':\n",
    "                    print(desc_entry.value)\n",
    "            tmp_res['description']=v\n",
    "        case 'configurations':\n",
    "            if len(v)>1:\n",
    "                print(\"Warning: more than one configuration\")\n",
    "            v=v[0]\n",
    "            if len(v.nodes)>1:\n",
    "                print(\"Warning: more than one node\")\n",
    "            v=v.nodes[0]\n",
    "            print(v.__dict__.keys())\n",
    "            if len(v.__dict__.keys())>3:\n",
    "                print(\"Warning: unhandled keys\")\n",
    "                print(v.__dict__.keys())\n",
    "            tmp_conf={}\n",
    "            tmp_conf[\"operator\"]=str(v.operator)\n",
    "            tmp_conf[\"negate\"]=bool(v.negate)\n",
    "            tmp_cpematch={}\n",
    "            for x in v.cpeMatch:\n",
    "                if len(x.__dict__.keys())>5:\n",
    "                    print(\"Warning: unhandled keys\")\n",
    "                    print(x.__dict__.keys())\n",
    "                \n",
    "                tmp_cpematch['vulnerable']=bool(x.vulnerable)\n",
    "                tmp_cpematch['criteria']=str(x.criteria)\n",
    "                tmp_cpematch['versionStartIncluding']=str(x.versionStartIncluding)\n",
    "                tmp_cpematch['versionEndExcluding']=str(x.versionEndExcluding)\n",
    "                tmp_cpematch['matchCriteriaId']=str(x.matchCriteriaId)\n",
    "            tmp_conf['cpeMatch']=tmp_cpematch\n",
    "            \n",
    "        case \"v31vector\":\n",
    "            tmp_res[\"v31vector\"]=v\n",
    "        case \"v31score\":\n",
    "            print(v)\n",
    "            tmp_res[\"v31score\"]=v\n",
    "            \n",
    "        case \"v31severity\":\n",
    "            tmp_res[\"v31severity\"]=v\n",
    "        case \"v31impactScore\":\n",
    "            tmp_res[\"v31impactScore\"]=v\n",
    "        case \"v31exploitability\":\n",
    "            tmp_res[\"v31exploitability\"]=v\n",
    "        case \"references\":\n",
    "            tmp_res[\"references\"]=[]\n",
    "            for ref in v:\n",
    "                tmp_ref={}\n",
    "                tmp_ref[\"url\"]=ref.url\n",
    "                tmp_ref[\"tags\"]=[str(tag) for tag in ref.tags]\n",
    "                tmp_res[\"references\"].append(tmp_ref)\n",
    "            \n",
    "            break\n",
    "\n",
    "        \n",
    "\n",
    "\n",
    "\n",
    "        \n",
    "        \n",
    "    \n"
   ]
  },
  {
   "cell_type": "code",
   "execution_count": 8,
   "metadata": {},
   "outputs": [
    {
     "name": "stdout",
     "output_type": "stream",
     "text": [
      "field: id, type: <class 'str'>, value: CVE-2021-22991\n",
      "field: sourceIdentifier, type: <class 'str'>, value: f5sirt@f5.com\n",
      "field: published, type: <class 'str'>, value: 2021-03-31T18:15:14.787\n",
      "field: lastModified, type: <class 'str'>, value: 2023-08-08T14:21:49.707\n",
      "field: vulnStatus, type: <class 'str'>, value: Analyzed\n",
      "field: cisaExploitAdd, type: <class 'str'>, value: 2022-01-18\n",
      "field: cisaActionDue, type: <class 'str'>, value: 2022-02-01\n",
      "field: cisaRequiredAction, type: <class 'str'>, value: Apply updates per vendor instructions.\n",
      "field: cisaVulnerabilityName, type: <class 'str'>, value: F5 BIG-IP Traffic Management Microkernel Buffer Overflow\n",
      "Incorrect URI normalization in application traffic product leads to buffer overflow, as exploited in the wild per CISA KEV. \n",
      "On BIG-IP versions 16.0.x before 16.0.1.1, 15.1.x before 15.1.2.1, 14.1.x before 14.1.4, 13.1.x before 13.1.3.6, and 12.1.x before 12.1.5.3, undisclosed requests to a virtual server may be incorrectly handled by the Traffic Management Microkernel (TMM) URI normalization, which may trigger a buffer overflow, resulting in a DoS attack. In certain situations, it may theoretically allow bypass of URL based access control or remote code execution (RCE). Note: Software versions which have reached End of Software Development (EoSD) are not evaluated.\n"
     ]
    }
   ],
   "source": [
    "for cwe in cwes:\n",
    "    if cwe.associated_cves is None:\n",
    "        continue\n",
    "    cwe_res = {}\n",
    "    for cve in cwe.associated_cves:\n",
    "        res= nvdlib.searchCVE(cveId=cve.name)\n",
    "        #print(f\"res: {json.loads(res[0].__dict__)}\")\n",
    "        # if len(res) > 1:\n",
    "        #     cwe_res[cve.name] = [str(r.__dict__) for r in res]\n",
    "        # else: \n",
    "        #     cwe_res[cve.name] = {v:getattr(res[0].__dict__,v) for v in res[0] if v != 5}\n",
    "        for v in res[0]:\n",
    "            if v == 5:\n",
    "                continue\n",
    "            match v:\n",
    "                case 'descriptions':\n",
    "                    for entry in res[0].__dict__[v]:\n",
    "                        if entry.lang == 'en':\n",
    "                            print(cve.description)\n",
    "                            print(entry.value)\n",
    "                case \"\"\n",
    "                            \n",
    "                    break\n",
    "                \n",
    "            print(f\"field: {v}, type: {type(v)}, value: {res[0].__dict__[v]}\")\n",
    "            \n",
    "        break\n",
    "    # pprint(cwe_res)\n",
    "    # data_dir.mkdir(exist_ok=True)\n",
    "    # with open(data_dir/f\"{cwe.id}.json\",\"w\") as f:\n",
    "    #     json.dump(cwe_res,f,indent=4)\n",
    "    break"
   ]
  }
 ],
 "metadata": {
  "kernelspec": {
   "display_name": "memorysafedataaggregator-w7lN1TqD-py3.10",
   "language": "python",
   "name": "python3"
  },
  "language_info": {
   "codemirror_mode": {
    "name": "ipython",
    "version": 3
   },
   "file_extension": ".py",
   "mimetype": "text/x-python",
   "name": "python",
   "nbconvert_exporter": "python",
   "pygments_lexer": "ipython3",
   "version": "3.10.13"
  }
 },
 "nbformat": 4,
 "nbformat_minor": 2
}
